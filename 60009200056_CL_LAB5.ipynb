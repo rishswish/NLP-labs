{
  "cells": [
    {
      "cell_type": "markdown",
      "source": [
        "* NAME: RISHABH PATIL\n",
        "* SAP: 60009200056\n",
        "* BATCH: K2"
      ],
      "metadata": {
        "id": "j1_Xq4hrWfEB"
      },
      "id": "j1_Xq4hrWfEB"
    },
    {
      "cell_type": "code",
      "execution_count": 1,
      "id": "51c14313",
      "metadata": {
        "id": "51c14313"
      },
      "outputs": [],
      "source": [
        "import random"
      ]
    },
    {
      "cell_type": "code",
      "execution_count": 2,
      "id": "21c037b2",
      "metadata": {
        "id": "21c037b2"
      },
      "outputs": [],
      "source": [
        "grammar = {\n",
        "    'S': ['NP VP'],\n",
        "    'NP': ['Det N', 'Det N PP'],\n",
        "    'VP': ['V', 'V NP'],\n",
        "    'PP': ['P NP'],\n",
        "    'Det': ['the', 'a'],\n",
        "    'N': ['man', 'dog', 'cat', 'woman'],\n",
        "    'V': ['runs', 'walks', 'barks', 'jumps'],\n",
        "    'P': ['on', 'in', 'to', 'with']}"
      ]
    },
    {
      "cell_type": "code",
      "execution_count": 3,
      "id": "b095a238",
      "metadata": {
        "id": "b095a238"
      },
      "outputs": [],
      "source": [
        "def generate_sentence(grammar, symbol='S'):\n",
        "    sentence = ''\n",
        "    if symbol in grammar:\n",
        "        # randomly choose a production rule for the given symbol\n",
        "        production = random.choice(grammar[symbol])\n",
        "        # split the production into individual symbols\n",
        "        symbols = production.split()\n",
        "        # recursively generate a sentence for each symbol\n",
        "        for symbol in symbols:\n",
        "            sentence += generate_sentence(grammar, symbol)\n",
        "    else:\n",
        "        # the symbol is a terminal, so just return it\n",
        "        sentence += symbol + ' '\n",
        "    return sentence"
      ]
    },
    {
      "cell_type": "code",
      "execution_count": 4,
      "id": "3cf1de13",
      "metadata": {
        "colab": {
          "base_uri": "https://localhost:8080/"
        },
        "id": "3cf1de13",
        "outputId": "0da71e64-85a4-4c39-b2b0-88e43a7ed7ec"
      },
      "outputs": [
        {
          "output_type": "stream",
          "name": "stdout",
          "text": [
            "the cat walks \n"
          ]
        }
      ],
      "source": [
        "sentence = generate_sentence(grammar)\n",
        "print(sentence)"
      ]
    },
    {
      "cell_type": "code",
      "execution_count": 5,
      "id": "9dff74df",
      "metadata": {
        "colab": {
          "base_uri": "https://localhost:8080/"
        },
        "id": "9dff74df",
        "outputId": "eca6b784-7be7-4bad-9c62-f358c5797621"
      },
      "outputs": [
        {
          "output_type": "stream",
          "name": "stdout",
          "text": [
            "the dog chased the dog\n",
            "the dog chased the cat\n",
            "the dog chased the man\n",
            "the dog chased the woman\n",
            "the dog chased a dog\n",
            "the dog chased a cat\n",
            "the dog chased a man\n",
            "the dog chased a woman\n",
            "the dog ate the dog\n",
            "the dog ate the cat\n"
          ]
        }
      ],
      "source": [
        "import nltk\n",
        "from nltk.parse.generate import generate\n",
        "\n",
        "# Define a simple CFG\n",
        "grammar = nltk.CFG.fromstring(\"\"\"\n",
        "    S -> NP VP\n",
        "    NP -> Det N\n",
        "    VP -> V NP\n",
        "    Det -> 'the' | 'a'\n",
        "    N -> 'dog' | 'cat' | 'man' | 'woman'\n",
        "    V -> 'chased' | 'ate'| 'runs'|'walks'| 'barks' | 'jumps'\n",
        "    P -> 'on' | 'in' | 'to' | 'with'\n",
        "\"\"\")\n",
        "\n",
        "# Generate 10 random sentences from the grammar\n",
        "for sentence in generate(grammar, n=10):\n",
        "    print(' '.join(sentence))"
      ]
    },
    {
      "cell_type": "code",
      "execution_count": 5,
      "id": "1d92ed0f",
      "metadata": {
        "id": "1d92ed0f"
      },
      "outputs": [],
      "source": []
    }
  ],
  "metadata": {
    "kernelspec": {
      "display_name": "Python 3 (ipykernel)",
      "language": "python",
      "name": "python3"
    },
    "language_info": {
      "codemirror_mode": {
        "name": "ipython",
        "version": 3
      },
      "file_extension": ".py",
      "mimetype": "text/x-python",
      "name": "python",
      "nbconvert_exporter": "python",
      "pygments_lexer": "ipython3",
      "version": "3.10.0"
    },
    "colab": {
      "provenance": []
    }
  },
  "nbformat": 4,
  "nbformat_minor": 5
}