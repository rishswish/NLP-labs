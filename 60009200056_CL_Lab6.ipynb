{
  "nbformat": 4,
  "nbformat_minor": 0,
  "metadata": {
    "colab": {
      "provenance": []
    },
    "kernelspec": {
      "name": "python3",
      "display_name": "Python 3"
    },
    "language_info": {
      "name": "python"
    }
  },
  "cells": [
    {
      "cell_type": "markdown",
      "source": [
        "* NAME: RISHABH PATIL\n",
        "* SAP: 60009200056\n",
        "* BATCH: K2"
      ],
      "metadata": {
        "id": "6kG8tsip9K6J"
      }
    },
    {
      "cell_type": "code",
      "execution_count": null,
      "metadata": {
        "id": "DuqDQdqDwGM3"
      },
      "outputs": [],
      "source": [
        "import numpy as np \n",
        "import pandas as pd \n",
        "import string as st\n",
        "import re\n",
        "import nltk"
      ]
    },
    {
      "cell_type": "code",
      "source": [
        "from nltk.corpus import shakespeare"
      ],
      "metadata": {
        "id": "dwGjdlx1yO7s"
      },
      "execution_count": null,
      "outputs": []
    },
    {
      "cell_type": "code",
      "source": [
        "def remove_stopwords(doc):\n",
        "  stopwords=[\"to\",\"is\",\"a\",\"an\",\"the\",\"for\",\"of\",\"in\",\"at\",]\n",
        "  special_char=[\",\",\":\",\" \",\";\",\".\",\"?\",\"'\"]\n",
        "  new_doc = []\n",
        "  for i in range(len(doc)):\n",
        "    if doc[i] not in stopwords and doc[i] not in special_char:\n",
        "      new_doc.append(doc[i])\n",
        "  return new_doc"
      ],
      "metadata": {
        "id": "ztKqYp471Mei"
      },
      "execution_count": null,
      "outputs": []
    },
    {
      "cell_type": "code",
      "source": [
        "def computeTF(wordDict, bagOfWords):\n",
        "    tfDict = {}\n",
        "    bagOfWordsCount = len(bagOfWords)\n",
        "    for word, count in wordDict.items():\n",
        "        tfDict[word] = count / float(bagOfWordsCount)\n",
        "    return tfDict"
      ],
      "metadata": {
        "id": "U7r2ClHB3aR8"
      },
      "execution_count": null,
      "outputs": []
    },
    {
      "cell_type": "code",
      "source": [
        "def computeIDF(documents):\n",
        "    import math\n",
        "    N = len(documents)\n",
        "    \n",
        "    idfDict = dict.fromkeys(documents[0].keys(), 0)\n",
        "    for document in documents:\n",
        "        for word, val in document.items():\n",
        "            if val > 0:\n",
        "                idfDict[word] += 1\n",
        "    \n",
        "    for word, val in idfDict.items():\n",
        "        idfDict[word] = math.log(N / float(val))\n",
        "    return idfDict"
      ],
      "metadata": {
        "id": "UsfdyYhe3bN3"
      },
      "execution_count": null,
      "outputs": []
    },
    {
      "cell_type": "code",
      "source": [
        "def computeTFIDF(tfBagOfWords, idfs):\n",
        "    tfidf = {}\n",
        "    for word, val in tfBagOfWords.items():\n",
        "        tfidf[word] = val * idfs[word]\n",
        "    return tfidf"
      ],
      "metadata": {
        "id": "rAA813dO5cCk"
      },
      "execution_count": null,
      "outputs": []
    },
    {
      "cell_type": "code",
      "source": [
        "nltk.download('shakespeare')"
      ],
      "metadata": {
        "colab": {
          "base_uri": "https://localhost:8080/"
        },
        "id": "ijYtXd-Pzzj0",
        "outputId": "ed3fef6b-f9fe-4ee3-ee1d-e8e01758146c"
      },
      "execution_count": null,
      "outputs": [
        {
          "output_type": "stream",
          "name": "stderr",
          "text": [
            "[nltk_data] Downloading package shakespeare to /root/nltk_data...\n",
            "[nltk_data]   Unzipping corpora/shakespeare.zip.\n"
          ]
        },
        {
          "output_type": "execute_result",
          "data": {
            "text/plain": [
              "True"
            ]
          },
          "metadata": {},
          "execution_count": 8
        }
      ]
    },
    {
      "cell_type": "code",
      "source": [
        "l = nltk.corpus.shakespeare.fileids()"
      ],
      "metadata": {
        "id": "pGOdbMLByT_i"
      },
      "execution_count": null,
      "outputs": []
    },
    {
      "cell_type": "code",
      "source": [
        "docA = nltk.corpus.shakespeare.words(l[0])[:15]\n",
        "docB = nltk.corpus.shakespeare.words(l[1])[:15]"
      ],
      "metadata": {
        "id": "W9Ak1DWkzKR_"
      },
      "execution_count": null,
      "outputs": []
    },
    {
      "cell_type": "code",
      "source": [
        "for i in range(len(docA)):\n",
        "  docA[i] = docA[i].lower()\n",
        "  docB[i] = docB[i].lower()"
      ],
      "metadata": {
        "id": "LaKF0jt5z53r"
      },
      "execution_count": null,
      "outputs": []
    },
    {
      "cell_type": "code",
      "source": [
        "docA = remove_stopwords(docA)\n",
        "docB = remove_stopwords(docB)"
      ],
      "metadata": {
        "id": "DbJv1Mei0XJ3"
      },
      "execution_count": null,
      "outputs": []
    },
    {
      "cell_type": "code",
      "source": [
        "print(docA)\n",
        "print(docB)"
      ],
      "metadata": {
        "colab": {
          "base_uri": "https://localhost:8080/"
        },
        "id": "uRtABxzZ2H4i",
        "outputId": "96995272-d396-443a-8e15-9416779a5a2d"
      },
      "execution_count": null,
      "outputs": [
        {
          "output_type": "stream",
          "name": "stdout",
          "text": [
            "['tragedy', 'antony', 'and', 'cleopatra', 'dramatis', 'personae', 'mark', 'antony', 'octavius', 'caesar', 'm', 'aemilius']\n",
            "['midsummer', 'night', 's', 'dream', 'dramatis', 'personae', 'theseus', 'duke', 'athens', 'egeus']\n"
          ]
        }
      ]
    },
    {
      "cell_type": "code",
      "source": [
        "uniqueWords = set(docA).union(set(docB))"
      ],
      "metadata": {
        "id": "5k3gNjQ-3RqO"
      },
      "execution_count": null,
      "outputs": []
    },
    {
      "cell_type": "code",
      "source": [
        "uniqueWords"
      ],
      "metadata": {
        "colab": {
          "base_uri": "https://localhost:8080/"
        },
        "id": "e0OO_6tC-7In",
        "outputId": "9336d1e7-77c8-4ecc-827c-8aa1b236bf83"
      },
      "execution_count": null,
      "outputs": [
        {
          "output_type": "execute_result",
          "data": {
            "text/plain": [
              "{'aemilius',\n",
              " 'and',\n",
              " 'antony',\n",
              " 'athens',\n",
              " 'caesar',\n",
              " 'cleopatra',\n",
              " 'dramatis',\n",
              " 'dream',\n",
              " 'duke',\n",
              " 'egeus',\n",
              " 'm',\n",
              " 'mark',\n",
              " 'midsummer',\n",
              " 'night',\n",
              " 'octavius',\n",
              " 'personae',\n",
              " 's',\n",
              " 'theseus',\n",
              " 'tragedy'}"
            ]
          },
          "metadata": {},
          "execution_count": 15
        }
      ]
    },
    {
      "cell_type": "code",
      "source": [
        "numOfWordsA = dict.fromkeys(uniqueWords, 0)\n",
        "for word in docA:\n",
        "    numOfWordsA[word] += 1\n",
        "numOfWordsB = dict.fromkeys(uniqueWords, 0)\n",
        "for word in docB:\n",
        "    numOfWordsB[word] += 1"
      ],
      "metadata": {
        "id": "621CAbhX408y"
      },
      "execution_count": null,
      "outputs": []
    },
    {
      "cell_type": "code",
      "source": [
        "tfA = computeTF(numOfWordsA, docA)\n",
        "tfB = computeTF(numOfWordsB, docB)"
      ],
      "metadata": {
        "id": "oWmtUnRq43om"
      },
      "execution_count": null,
      "outputs": []
    },
    {
      "cell_type": "code",
      "source": [
        "numOfWordsA "
      ],
      "metadata": {
        "colab": {
          "base_uri": "https://localhost:8080/"
        },
        "id": "b-GA4uEU_ruq",
        "outputId": "9401a926-84c0-4534-91f7-2b9345544627"
      },
      "execution_count": null,
      "outputs": [
        {
          "output_type": "execute_result",
          "data": {
            "text/plain": [
              "{'personae': 1,\n",
              " 'octavius': 1,\n",
              " 'dream': 0,\n",
              " 'aemilius': 1,\n",
              " 'and': 1,\n",
              " 'duke': 0,\n",
              " 'theseus': 0,\n",
              " 'night': 0,\n",
              " 'egeus': 0,\n",
              " 'cleopatra': 1,\n",
              " 'm': 1,\n",
              " 'tragedy': 1,\n",
              " 's': 0,\n",
              " 'midsummer': 0,\n",
              " 'athens': 0,\n",
              " 'antony': 2,\n",
              " 'dramatis': 1,\n",
              " 'caesar': 1,\n",
              " 'mark': 1}"
            ]
          },
          "metadata": {},
          "execution_count": 19
        }
      ]
    },
    {
      "cell_type": "code",
      "source": [
        "tfA"
      ],
      "metadata": {
        "id": "cnrb4L9T_vOp",
        "outputId": "295ff370-b49f-4ad5-b4a7-7369d1857f47",
        "colab": {
          "base_uri": "https://localhost:8080/"
        }
      },
      "execution_count": null,
      "outputs": [
        {
          "output_type": "execute_result",
          "data": {
            "text/plain": [
              "{'personae': 0.08333333333333333,\n",
              " 'octavius': 0.08333333333333333,\n",
              " 'dream': 0.0,\n",
              " 'aemilius': 0.08333333333333333,\n",
              " 'and': 0.08333333333333333,\n",
              " 'duke': 0.0,\n",
              " 'theseus': 0.0,\n",
              " 'night': 0.0,\n",
              " 'egeus': 0.0,\n",
              " 'cleopatra': 0.08333333333333333,\n",
              " 'm': 0.08333333333333333,\n",
              " 'tragedy': 0.08333333333333333,\n",
              " 's': 0.0,\n",
              " 'midsummer': 0.0,\n",
              " 'athens': 0.0,\n",
              " 'antony': 0.16666666666666666,\n",
              " 'dramatis': 0.08333333333333333,\n",
              " 'caesar': 0.08333333333333333,\n",
              " 'mark': 0.08333333333333333}"
            ]
          },
          "metadata": {},
          "execution_count": 22
        }
      ]
    },
    {
      "cell_type": "code",
      "source": [
        "idfs = computeIDF([numOfWordsA, numOfWordsB])"
      ],
      "metadata": {
        "id": "0dabxDrV5Pl8"
      },
      "execution_count": null,
      "outputs": []
    },
    {
      "cell_type": "code",
      "source": [
        "tfidfA = computeTFIDF(tfA, idfs)\n",
        "tfidfB = computeTFIDF(tfB, idfs)\n",
        "df = pd.DataFrame([tfidfA, tfidfB])"
      ],
      "metadata": {
        "id": "XyCj9iU85X8O"
      },
      "execution_count": null,
      "outputs": []
    },
    {
      "cell_type": "code",
      "source": [
        "df"
      ],
      "metadata": {
        "colab": {
          "base_uri": "https://localhost:8080/",
          "height": 176
        },
        "id": "7UOaSgPm5fxq",
        "outputId": "d339430c-57d7-4d6a-d263-1e7e43f806e9"
      },
      "execution_count": null,
      "outputs": [
        {
          "output_type": "execute_result",
          "data": {
            "text/plain": [
              "     caesar     dream       and  octavius  cleopatra   theseus         m  \\\n",
              "0  0.057762  0.000000  0.057762  0.057762   0.057762  0.000000  0.057762   \n",
              "1  0.000000  0.069315  0.000000  0.000000   0.000000  0.069315  0.000000   \n",
              "\n",
              "      night  aemilius  personae  dramatis      duke    athens      mark  \\\n",
              "0  0.000000  0.057762       0.0       0.0  0.000000  0.000000  0.057762   \n",
              "1  0.069315  0.000000       0.0       0.0  0.069315  0.069315  0.000000   \n",
              "\n",
              "     antony         s     egeus   tragedy  midsummer  \n",
              "0  0.115525  0.000000  0.000000  0.057762   0.000000  \n",
              "1  0.000000  0.069315  0.069315  0.000000   0.069315  "
            ],
            "text/html": [
              "\n",
              "  <div id=\"df-e6128c21-a514-4faf-a058-9c1e08d01358\">\n",
              "    <div class=\"colab-df-container\">\n",
              "      <div>\n",
              "<style scoped>\n",
              "    .dataframe tbody tr th:only-of-type {\n",
              "        vertical-align: middle;\n",
              "    }\n",
              "\n",
              "    .dataframe tbody tr th {\n",
              "        vertical-align: top;\n",
              "    }\n",
              "\n",
              "    .dataframe thead th {\n",
              "        text-align: right;\n",
              "    }\n",
              "</style>\n",
              "<table border=\"1\" class=\"dataframe\">\n",
              "  <thead>\n",
              "    <tr style=\"text-align: right;\">\n",
              "      <th></th>\n",
              "      <th>caesar</th>\n",
              "      <th>dream</th>\n",
              "      <th>and</th>\n",
              "      <th>octavius</th>\n",
              "      <th>cleopatra</th>\n",
              "      <th>theseus</th>\n",
              "      <th>m</th>\n",
              "      <th>night</th>\n",
              "      <th>aemilius</th>\n",
              "      <th>personae</th>\n",
              "      <th>dramatis</th>\n",
              "      <th>duke</th>\n",
              "      <th>athens</th>\n",
              "      <th>mark</th>\n",
              "      <th>antony</th>\n",
              "      <th>s</th>\n",
              "      <th>egeus</th>\n",
              "      <th>tragedy</th>\n",
              "      <th>midsummer</th>\n",
              "    </tr>\n",
              "  </thead>\n",
              "  <tbody>\n",
              "    <tr>\n",
              "      <th>0</th>\n",
              "      <td>0.057762</td>\n",
              "      <td>0.000000</td>\n",
              "      <td>0.057762</td>\n",
              "      <td>0.057762</td>\n",
              "      <td>0.057762</td>\n",
              "      <td>0.000000</td>\n",
              "      <td>0.057762</td>\n",
              "      <td>0.000000</td>\n",
              "      <td>0.057762</td>\n",
              "      <td>0.0</td>\n",
              "      <td>0.0</td>\n",
              "      <td>0.000000</td>\n",
              "      <td>0.000000</td>\n",
              "      <td>0.057762</td>\n",
              "      <td>0.115525</td>\n",
              "      <td>0.000000</td>\n",
              "      <td>0.000000</td>\n",
              "      <td>0.057762</td>\n",
              "      <td>0.000000</td>\n",
              "    </tr>\n",
              "    <tr>\n",
              "      <th>1</th>\n",
              "      <td>0.000000</td>\n",
              "      <td>0.069315</td>\n",
              "      <td>0.000000</td>\n",
              "      <td>0.000000</td>\n",
              "      <td>0.000000</td>\n",
              "      <td>0.069315</td>\n",
              "      <td>0.000000</td>\n",
              "      <td>0.069315</td>\n",
              "      <td>0.000000</td>\n",
              "      <td>0.0</td>\n",
              "      <td>0.0</td>\n",
              "      <td>0.069315</td>\n",
              "      <td>0.069315</td>\n",
              "      <td>0.000000</td>\n",
              "      <td>0.000000</td>\n",
              "      <td>0.069315</td>\n",
              "      <td>0.069315</td>\n",
              "      <td>0.000000</td>\n",
              "      <td>0.069315</td>\n",
              "    </tr>\n",
              "  </tbody>\n",
              "</table>\n",
              "</div>\n",
              "      <button class=\"colab-df-convert\" onclick=\"convertToInteractive('df-e6128c21-a514-4faf-a058-9c1e08d01358')\"\n",
              "              title=\"Convert this dataframe to an interactive table.\"\n",
              "              style=\"display:none;\">\n",
              "        \n",
              "  <svg xmlns=\"http://www.w3.org/2000/svg\" height=\"24px\"viewBox=\"0 0 24 24\"\n",
              "       width=\"24px\">\n",
              "    <path d=\"M0 0h24v24H0V0z\" fill=\"none\"/>\n",
              "    <path d=\"M18.56 5.44l.94 2.06.94-2.06 2.06-.94-2.06-.94-.94-2.06-.94 2.06-2.06.94zm-11 1L8.5 8.5l.94-2.06 2.06-.94-2.06-.94L8.5 2.5l-.94 2.06-2.06.94zm10 10l.94 2.06.94-2.06 2.06-.94-2.06-.94-.94-2.06-.94 2.06-2.06.94z\"/><path d=\"M17.41 7.96l-1.37-1.37c-.4-.4-.92-.59-1.43-.59-.52 0-1.04.2-1.43.59L10.3 9.45l-7.72 7.72c-.78.78-.78 2.05 0 2.83L4 21.41c.39.39.9.59 1.41.59.51 0 1.02-.2 1.41-.59l7.78-7.78 2.81-2.81c.8-.78.8-2.07 0-2.86zM5.41 20L4 18.59l7.72-7.72 1.47 1.35L5.41 20z\"/>\n",
              "  </svg>\n",
              "      </button>\n",
              "      \n",
              "  <style>\n",
              "    .colab-df-container {\n",
              "      display:flex;\n",
              "      flex-wrap:wrap;\n",
              "      gap: 12px;\n",
              "    }\n",
              "\n",
              "    .colab-df-convert {\n",
              "      background-color: #E8F0FE;\n",
              "      border: none;\n",
              "      border-radius: 50%;\n",
              "      cursor: pointer;\n",
              "      display: none;\n",
              "      fill: #1967D2;\n",
              "      height: 32px;\n",
              "      padding: 0 0 0 0;\n",
              "      width: 32px;\n",
              "    }\n",
              "\n",
              "    .colab-df-convert:hover {\n",
              "      background-color: #E2EBFA;\n",
              "      box-shadow: 0px 1px 2px rgba(60, 64, 67, 0.3), 0px 1px 3px 1px rgba(60, 64, 67, 0.15);\n",
              "      fill: #174EA6;\n",
              "    }\n",
              "\n",
              "    [theme=dark] .colab-df-convert {\n",
              "      background-color: #3B4455;\n",
              "      fill: #D2E3FC;\n",
              "    }\n",
              "\n",
              "    [theme=dark] .colab-df-convert:hover {\n",
              "      background-color: #434B5C;\n",
              "      box-shadow: 0px 1px 3px 1px rgba(0, 0, 0, 0.15);\n",
              "      filter: drop-shadow(0px 1px 2px rgba(0, 0, 0, 0.3));\n",
              "      fill: #FFFFFF;\n",
              "    }\n",
              "  </style>\n",
              "\n",
              "      <script>\n",
              "        const buttonEl =\n",
              "          document.querySelector('#df-e6128c21-a514-4faf-a058-9c1e08d01358 button.colab-df-convert');\n",
              "        buttonEl.style.display =\n",
              "          google.colab.kernel.accessAllowed ? 'block' : 'none';\n",
              "\n",
              "        async function convertToInteractive(key) {\n",
              "          const element = document.querySelector('#df-e6128c21-a514-4faf-a058-9c1e08d01358');\n",
              "          const dataTable =\n",
              "            await google.colab.kernel.invokeFunction('convertToInteractive',\n",
              "                                                     [key], {});\n",
              "          if (!dataTable) return;\n",
              "\n",
              "          const docLinkHtml = 'Like what you see? Visit the ' +\n",
              "            '<a target=\"_blank\" href=https://colab.research.google.com/notebooks/data_table.ipynb>data table notebook</a>'\n",
              "            + ' to learn more about interactive tables.';\n",
              "          element.innerHTML = '';\n",
              "          dataTable['output_type'] = 'display_data';\n",
              "          await google.colab.output.renderOutput(dataTable, element);\n",
              "          const docLink = document.createElement('div');\n",
              "          docLink.innerHTML = docLinkHtml;\n",
              "          element.appendChild(docLink);\n",
              "        }\n",
              "      </script>\n",
              "    </div>\n",
              "  </div>\n",
              "  "
            ]
          },
          "metadata": {},
          "execution_count": 33
        }
      ]
    },
    {
      "cell_type": "code",
      "source": [],
      "metadata": {
        "id": "Il7n9nTt5knB"
      },
      "execution_count": null,
      "outputs": []
    }
  ]
}