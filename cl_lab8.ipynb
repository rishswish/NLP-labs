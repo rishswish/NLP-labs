{
  "nbformat": 4,
  "nbformat_minor": 0,
  "metadata": {
    "colab": {
      "provenance": []
    },
    "kernelspec": {
      "name": "python3",
      "display_name": "Python 3"
    },
    "language_info": {
      "name": "python"
    }
  },
  "cells": [
    {
      "cell_type": "code",
      "source": [
        "from nltk.corpus import wordnet as wn\n",
        "import nltk\n",
        "\n",
        "nltk.download('wordnet')"
      ],
      "metadata": {
        "colab": {
          "base_uri": "https://localhost:8080/"
        },
        "id": "EvzjphpK1T6h",
        "outputId": "88b058eb-ebd2-45a3-b523-9785ece9a362"
      },
      "execution_count": null,
      "outputs": [
        {
          "output_type": "stream",
          "name": "stderr",
          "text": [
            "[nltk_data] Downloading package wordnet to /root/nltk_data...\n"
          ]
        },
        {
          "output_type": "execute_result",
          "data": {
            "text/plain": [
              "True"
            ]
          },
          "metadata": {},
          "execution_count": 1
        }
      ]
    },
    {
      "cell_type": "code",
      "execution_count": null,
      "metadata": {
        "colab": {
          "base_uri": "https://localhost:8080/"
        },
        "id": "rCmmyM1y1LXH",
        "outputId": "cb5d7279-1d02-40be-f557-02fe5cc5c714"
      },
      "outputs": [
        {
          "output_type": "stream",
          "name": "stdout",
          "text": [
            "The word 'shell' has 18 different senses:\n",
            "Sense 1: ammunition consisting of a cylindrical metal casing containing an explosive charge and a projectile; fired from a large gun\n",
            "Sense 2: the material that forms the hard outer covering of many animals\n",
            "Sense 3: hard outer covering or case of certain organisms such as arthropods and turtles\n",
            "Sense 4: the hard usually fibrous outer layer of some fruits especially nuts\n",
            "Sense 5: the exterior covering of a bird's egg\n",
            "Sense 6: a rigid covering that envelops an object\n",
            "Sense 7: a very light narrow racing boat\n",
            "Sense 8: the housing or outer covering of something\n",
            "Sense 9: a metal sheathing of uniform thickness (such as the shield attached to an artillery piece to protect the gunners)\n",
            "Sense 10: the hard largely calcareous covering of a mollusc or a brachiopod\n",
            "Sense 11: use explosives on\n",
            "Sense 12: create by using explosives\n",
            "Sense 13: fall out of the pod or husk\n",
            "Sense 14: hit the pitches of hard and regularly\n",
            "Sense 15: look for and collect shells by the seashore\n",
            "Sense 16: come out better in a competition, race, or conflict\n",
            "Sense 17: remove from its shell or outer covering\n",
            "Sense 18: remove the husks from\n"
          ]
        }
      ],
      "source": [
        "\n",
        "word = \"shell\"\n",
        "synsets = wn.synsets(word)\n",
        "\n",
        "print(\"The word '{}' has {} different senses:\".format(word, len(synsets)))\n",
        "for i, synset in enumerate(synsets):\n",
        "    print(\"Sense {}: {}\".format(i+1, synset.definition()))\n"
      ]
    },
    {
      "cell_type": "code",
      "source": [],
      "metadata": {
        "id": "SBcOmfZ31Uqd"
      },
      "execution_count": null,
      "outputs": []
    }
  ]
}