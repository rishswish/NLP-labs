{
  "nbformat": 4,
  "nbformat_minor": 0,
  "metadata": {
    "colab": {
      "provenance": []
    },
    "kernelspec": {
      "name": "python3",
      "display_name": "Python 3"
    },
    "language_info": {
      "name": "python"
    }
  },
  "cells": [
    {
      "cell_type": "code",
      "source": [
        "from nltk.corpus import wordnet as wn\n",
        "from nltk.tokenize import word_tokenize\n",
        "import nltk"
      ],
      "metadata": {
        "id": "Oqff3J3O0JjJ"
      },
      "execution_count": null,
      "outputs": []
    },
    {
      "cell_type": "code",
      "execution_count": null,
      "metadata": {
        "id": "5IintTM5y390"
      },
      "outputs": [],
      "source": [
        "\n",
        "\n",
        "\n",
        "def lesk(word, sentence):\n",
        "    best_sense = None\n",
        "    max_overlap = 0\n",
        "    context = set(word_tokenize(sentence))\n",
        "    for sense in wn.synsets(word):\n",
        "        signature = set(word_tokenize(sense.definition()))\n",
        "        for example in sense.examples():\n",
        "            signature.union(set(word_tokenize(example)))\n",
        "        overlap = len(context.intersection(signature))\n",
        "        for hypernym in sense.hypernyms():\n",
        "            signature.union(set(word_tokenize(hypernym.definition())))\n",
        "        if overlap > max_overlap:\n",
        "            max_overlap = overlap\n",
        "            best_sense = sense\n",
        "    return best_sense\n"
      ]
    },
    {
      "cell_type": "code",
      "source": [
        "nltk.download('punkt')\n",
        "nltk.download('wordnet')"
      ],
      "metadata": {
        "colab": {
          "base_uri": "https://localhost:8080/"
        },
        "id": "TpE_UuZj0PjD",
        "outputId": "0435f704-50f9-4c7e-a1cb-16a7946f3a4b"
      },
      "execution_count": null,
      "outputs": [
        {
          "output_type": "stream",
          "name": "stderr",
          "text": [
            "[nltk_data] Downloading package punkt to /root/nltk_data...\n",
            "[nltk_data]   Unzipping tokenizers/punkt.zip.\n",
            "[nltk_data] Downloading package wordnet to /root/nltk_data...\n"
          ]
        },
        {
          "output_type": "execute_result",
          "data": {
            "text/plain": [
              "True"
            ]
          },
          "metadata": {},
          "execution_count": 3
        }
      ]
    },
    {
      "cell_type": "code",
      "source": [
        "word = \"bat\"\n",
        "sentence = \"Sachin hit six's with his favorite bat.\"\n",
        "\n",
        "# Perform word sense disambiguation\n",
        "best_sense = lesk(word, sentence)\n",
        "\n",
        "# Print the best sense found by Lesk's algorithm\n",
        "print(\"The best sense of the word '{}' in the sentence '{}' is:\".format(word, sentence))\n",
        "print(best_sense.definition())"
      ],
      "metadata": {
        "colab": {
          "base_uri": "https://localhost:8080/"
        },
        "id": "tc3iww67z8Z9",
        "outputId": "ad4e3f87-a5f2-4bc2-a6f6-28d74d00a983"
      },
      "execution_count": null,
      "outputs": [
        {
          "output_type": "stream",
          "name": "stdout",
          "text": [
            "The best sense of the word 'bat' in the sentence 'Sachin hit six's with his favorite bat.' is:\n",
            "strike with, or as if with a baseball bat\n"
          ]
        }
      ]
    },
    {
      "cell_type": "code",
      "source": [],
      "metadata": {
        "id": "BU09IWouz89-"
      },
      "execution_count": null,
      "outputs": []
    }
  ]
}