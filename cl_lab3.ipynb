{
  "nbformat": 4,
  "nbformat_minor": 0,
  "metadata": {
    "colab": {
      "provenance": []
    },
    "kernelspec": {
      "name": "python3",
      "display_name": "Python 3"
    },
    "language_info": {
      "name": "python"
    }
  },
  "cells": [
    {
      "cell_type": "code",
      "execution_count": null,
      "metadata": {
        "id": "09KBmdOEwyD6"
      },
      "outputs": [],
      "source": [
        "v=['a','e','i','o','u']"
      ]
    },
    {
      "cell_type": "code",
      "source": [
        "V=['A','E','I','O','U']"
      ],
      "metadata": {
        "id": "WpY8Hslgx0vp"
      },
      "execution_count": null,
      "outputs": []
    },
    {
      "cell_type": "code",
      "source": [
        "import re"
      ],
      "metadata": {
        "id": "bYkx0d8Wx-hE"
      },
      "execution_count": null,
      "outputs": []
    },
    {
      "cell_type": "code",
      "source": [
        "def constant(s):\n",
        "  x = re.findall(\"[aeiouAEIOU]\",s)\n",
        "  if x:\n",
        "    return 0\n",
        "  else :\n",
        "    return 1"
      ],
      "metadata": {
        "id": "1rljfaN4zLCz"
      },
      "execution_count": null,
      "outputs": []
    },
    {
      "cell_type": "code",
      "source": [
        "constant(\"Hello\")"
      ],
      "metadata": {
        "colab": {
          "base_uri": "https://localhost:8080/"
        },
        "id": "qBQS3Z9Dz_Kl",
        "outputId": "37a936f6-b436-4fd8-d910-0522465669df"
      },
      "execution_count": null,
      "outputs": [
        {
          "output_type": "execute_result",
          "data": {
            "text/plain": [
              "0"
            ]
          },
          "metadata": {},
          "execution_count": 41
        }
      ]
    },
    {
      "cell_type": "code",
      "source": [
        "def m(test_str):\n",
        "  res = []\n",
        "  c=\"\"\n",
        "  for ele in range(len(test_str)):\n",
        "      if test_str[ele] in \"aeiou\":\n",
        "        res.append(ele)\n",
        "  for i in res:\n",
        "    try:\n",
        "      a=test_str[i+1]\n",
        "      c+=\"V\"\n",
        "      if constant(a):\n",
        "        c+=\"C\"\n",
        "    except:\n",
        "          pass\n",
        "  c=re.findall(\"VC\",c )\n",
        "  return len(c)\n"
      ],
      "metadata": {
        "id": "o62epj2x0wpc"
      },
      "execution_count": null,
      "outputs": []
    },
    {
      "cell_type": "code",
      "source": [
        "m(\"sahil\")"
      ],
      "metadata": {
        "colab": {
          "base_uri": "https://localhost:8080/"
        },
        "id": "jO-OvIec1o_M",
        "outputId": "506420a5-5643-4109-8f9e-63fa90ed339f"
      },
      "execution_count": null,
      "outputs": [
        {
          "output_type": "execute_result",
          "data": {
            "text/plain": [
              "2"
            ]
          },
          "metadata": {},
          "execution_count": 80
        }
      ]
    },
    {
      "cell_type": "code",
      "source": [
        "\n",
        "x = re.findall(\"VC\",ind(\"sahil\") )"
      ],
      "metadata": {
        "id": "a2wcKBtN1-2T"
      },
      "execution_count": null,
      "outputs": []
    },
    {
      "cell_type": "code",
      "source": [
        "print(len(x))"
      ],
      "metadata": {
        "colab": {
          "base_uri": "https://localhost:8080/"
        },
        "id": "H3A0Q-Rv2OGr",
        "outputId": "37f30ae3-e873-4396-dd97-5265165de3e4"
      },
      "execution_count": null,
      "outputs": [
        {
          "output_type": "stream",
          "name": "stdout",
          "text": [
            "2\n"
          ]
        }
      ]
    },
    {
      "cell_type": "code",
      "source": [
        "def a1(str):\n",
        "  if str.endswith('sses'):\n",
        "    str=str[:-4]+\"ss\"\n",
        "  elif str.endswith('ies'):\n",
        "    str=str[:-3]+\"i\"\n",
        "  elif str.endswith('ss'):\n",
        "    str=str[:-2]+\"ss\"\n",
        "  elif str.endswith('s'):\n",
        "    str=str[:-1]+\"\"\n",
        "  print(str)"
      ],
      "metadata": {
        "id": "Bark7r3s4_4f"
      },
      "execution_count": null,
      "outputs": []
    },
    {
      "cell_type": "code",
      "source": [
        "a1('hissieos')"
      ],
      "metadata": {
        "colab": {
          "base_uri": "https://localhost:8080/"
        },
        "id": "v8J2BKTH6MQI",
        "outputId": "ece6b497-836a-453e-d399-614b05bbe154"
      },
      "execution_count": null,
      "outputs": [
        {
          "output_type": "stream",
          "name": "stdout",
          "text": [
            "hissieo\n"
          ]
        }
      ]
    },
    {
      "cell_type": "code",
      "source": [
        "def vowel(s):\n",
        "  x = re.findall(\"[aeiouAEIOU]\",s)\n",
        "  if x:\n",
        "    return 1\n",
        "  else :\n",
        "    return 0"
      ],
      "metadata": {
        "id": "sWA6Napc-65l"
      },
      "execution_count": null,
      "outputs": []
    },
    {
      "cell_type": "code",
      "source": [
        "def b1(str):\n",
        "  if str.endswith('eed'):\n",
        "    if  m(str[:-3])>0:\n",
        "      str=str[:-1]\n",
        "  elif str.endswith('ed'):\n",
        "    if vowel(str[:-2]):\n",
        "      str=str[:-2]\n",
        "    if str[-2:]==\"at\" or  str[-2:]=='bl'or  str[-2:]=='iz' :\n",
        "      str=str+\"e\"\n",
        "\n",
        "  elif str.endswith('ing'):\n",
        "    if vowel(str[:-3]):\n",
        "      str=str[:-3]\n",
        "    if str[-1]==str[-2]:\n",
        "      if m(str[-2]):\n",
        "        pass\n",
        "\n",
        "  elif str.endswith('s'):\n",
        "    str=str[:-1]+\"\"\n",
        "  print(str)\n",
        "  return str\n"
      ],
      "metadata": {
        "id": "uk_jyKl36TWI"
      },
      "execution_count": null,
      "outputs": []
    },
    {
      "cell_type": "code",
      "source": [
        "str=b1(\"hopping\")"
      ],
      "metadata": {
        "colab": {
          "base_uri": "https://localhost:8080/"
        },
        "id": "z7eSv2kV97Ud",
        "outputId": "01cb40b7-249d-4c4e-93f9-a7ec83466b74"
      },
      "execution_count": null,
      "outputs": [
        {
          "output_type": "stream",
          "name": "stdout",
          "text": [
            "hopp\n"
          ]
        }
      ]
    },
    {
      "cell_type": "code",
      "source": [
        "def c1(str):\n",
        "  if str.endswith('y'):\n",
        "    try:\n",
        "      if str[-2]==str[-3]:\n",
        "        str=str[:-1]+\"i\"\n",
        "    except:\n",
        "      pass\n",
        "  print(str)"
      ],
      "metadata": {
        "id": "PIVNTeqx-BnV"
      },
      "execution_count": null,
      "outputs": []
    },
    {
      "cell_type": "code",
      "source": [
        "c1(\"happy\")"
      ],
      "metadata": {
        "colab": {
          "base_uri": "https://localhost:8080/"
        },
        "id": "glEe7rLGAqr-",
        "outputId": "77d1f446-4552-40e4-e099-56dc3d0023f0"
      },
      "execution_count": null,
      "outputs": [
        {
          "output_type": "stream",
          "name": "stdout",
          "text": [
            "happi\n"
          ]
        }
      ]
    },
    {
      "cell_type": "code",
      "source": [
        "c1(\"sky\")"
      ],
      "metadata": {
        "colab": {
          "base_uri": "https://localhost:8080/"
        },
        "id": "OJwqIC1kEbda",
        "outputId": "02357846-e908-4ef4-f47b-8d73dd67f3b1"
      },
      "execution_count": null,
      "outputs": [
        {
          "output_type": "stream",
          "name": "stdout",
          "text": [
            "sky\n"
          ]
        }
      ]
    },
    {
      "cell_type": "code",
      "source": [
        "def step2(str):\n",
        "  if m(str)>0:\n",
        "    if str.endswith(\"ational\"):\n",
        "      str=str[:-5]+'e'\n",
        "    elif str.endswith(\"tional\"):\n",
        "      str=str[:-2]+''\n",
        "    elif str.endswith(\"enci\"):\n",
        "      str=str[:-1]+'e'\n",
        "    elif str.endswith(\"izer\"):\n",
        "      str=str[:-1]+''\n",
        "    elif str.endswith(\"otional\"):\n",
        "      str=str[:-5]+'e\n",
        "      '\n"
      ],
      "metadata": {
        "id": "i8vpZBiNEp67"
      },
      "execution_count": null,
      "outputs": []
    },
    {
      "cell_type": "code",
      "source": [],
      "metadata": {
        "id": "wG--FaHyFvKb"
      },
      "execution_count": null,
      "outputs": []
    }
  ]
}