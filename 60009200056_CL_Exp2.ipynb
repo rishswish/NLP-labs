{
  "nbformat": 4,
  "nbformat_minor": 0,
  "metadata": {
    "colab": {
      "provenance": []
    },
    "kernelspec": {
      "name": "python3",
      "display_name": "Python 3"
    },
    "language_info": {
      "name": "python"
    }
  },
  "cells": [
    {
      "cell_type": "markdown",
      "source": [
        "#Name:Rishabh Patil\n",
        "#SAP:60009200056\n",
        "#Batch:K2 Div:K"
      ],
      "metadata": {
        "id": "uyBhNya4M5e-"
      }
    },
    {
      "cell_type": "code",
      "source": [
        "import nltk\n",
        "from nltk.util import ngrams\n",
        "from nltk import word_tokenize\n"
      ],
      "metadata": {
        "id": "aOVS_abVOHXG"
      },
      "execution_count": null,
      "outputs": []
    },
    {
      "cell_type": "code",
      "source": [
        "nltk.download('all')"
      ],
      "metadata": {
        "id": "TJ6jJWRcOgGc"
      },
      "execution_count": null,
      "outputs": []
    },
    {
      "cell_type": "code",
      "source": [
        "# Function to generate n-grams from sentences.\n",
        "def extract_ngrams(data, num):\n",
        "  n_grams = ngrams(nltk.word_tokenize(data), num)\n",
        "  return [ ' '.join(grams) for grams in n_grams]\n",
        "data = 'A class is a blueprint for the object. A class is a blueprint for the object'\n",
        "print(\"1-gram: \", extract_ngrams(data, 1))\n",
        "print(\"2-gram: \", extract_ngrams(data, 2))\n",
        "print(\"3-gram: \", extract_ngrams(data, 3))\n",
        "print(\"4-gram: \", extract_ngrams(data, 4))"
      ],
      "metadata": {
        "colab": {
          "base_uri": "https://localhost:8080/"
        },
        "id": "c9puWOGBOXkI",
        "outputId": "bfe1795d-598d-41e5-b2a3-9467d4824c72"
      },
      "execution_count": null,
      "outputs": [
        {
          "output_type": "stream",
          "name": "stdout",
          "text": [
            "1-gram:  ['A', 'class', 'is', 'a', 'blueprint', 'for', 'the', 'object', '.', 'A', 'class', 'is', 'a', 'blueprint', 'for', 'the', 'object']\n",
            "2-gram:  ['A class', 'class is', 'is a', 'a blueprint', 'blueprint for', 'for the', 'the object', 'object .', '. A', 'A class', 'class is', 'is a', 'a blueprint', 'blueprint for', 'for the', 'the object']\n",
            "3-gram:  ['A class is', 'class is a', 'is a blueprint', 'a blueprint for', 'blueprint for the', 'for the object', 'the object .', 'object . A', '. A class', 'A class is', 'class is a', 'is a blueprint', 'a blueprint for', 'blueprint for the', 'for the object']\n",
            "4-gram:  ['A class is a', 'class is a blueprint', 'is a blueprint for', 'a blueprint for the', 'blueprint for the object', 'for the object .', 'the object . A', 'object . A class', '. A class is', 'A class is a', 'class is a blueprint', 'is a blueprint for', 'a blueprint for the', 'blueprint for the object']\n"
          ]
        }
      ]
    },
    {
      "cell_type": "markdown",
      "source": [
        "# **Preprocessing Data**"
      ],
      "metadata": {
        "id": "pULzoqK7SiNj"
      }
    },
    {
      "cell_type": "code",
      "source": [
        "import nltk\n",
        "import string\n",
        "import re\n",
        "def text_lowercase(text):\n",
        "  return text.lower()\n",
        "\n",
        "data=text_lowercase(data)\n",
        "\n",
        "def remove_numbers(text):\n",
        "  result = re.sub(r'\\d+', '', text)\n",
        "  return result\n",
        "data=remove_numbers(data)\n",
        "\n",
        "\n",
        "def remove_punctuation(text):\n",
        "  translator = str.maketrans('', '', string.punctuation)\n",
        "  return text.translate(translator)\n",
        "data=remove_punctuation(data)\n",
        "\n",
        "def remove_whitespace(text):\n",
        "  return \" \".join(text.split())\n",
        "\n",
        "data=remove_whitespace(data)\n",
        "\n",
        "data"
      ],
      "metadata": {
        "id": "bryUomM-R-YX",
        "colab": {
          "base_uri": "https://localhost:8080/",
          "height": 36
        },
        "outputId": "20c2238c-6608-4838-ecb2-0f81e1edf7c7"
      },
      "execution_count": null,
      "outputs": [
        {
          "output_type": "execute_result",
          "data": {
            "text/plain": [
              "'a class is a blueprint for the object a class is a blueprint for the object'"
            ],
            "application/vnd.google.colaboratory.intrinsic+json": {
              "type": "string"
            }
          },
          "metadata": {},
          "execution_count": 6
        }
      ]
    },
    {
      "cell_type": "markdown",
      "source": [
        "# **Tokenization**"
      ],
      "metadata": {
        "id": "phgPATd9VGrV"
      }
    },
    {
      "cell_type": "code",
      "source": [
        "from nltk import word_tokenize\n",
        "def generate_tokens(d):\n",
        "    tokens = word_tokenize(d)\n",
        "    return tokens\n",
        "tokens=generate_tokens(data)\n",
        "distinct_tokens = list(set(sorted(tokens)))\n",
        "print(\"Tokens in the corpus = \\n\",distinct_tokens)"
      ],
      "metadata": {
        "colab": {
          "base_uri": "https://localhost:8080/"
        },
        "id": "EEhRw01HVCmp",
        "outputId": "7ba59d44-5c37-4106-b8a3-d0e42d335a11"
      },
      "execution_count": null,
      "outputs": [
        {
          "output_type": "stream",
          "name": "stdout",
          "text": [
            "Tokens in the corpus = \n",
            " ['for', 'a', 'blueprint', 'object', 'is', 'the', 'class']\n"
          ]
        }
      ]
    },
    {
      "cell_type": "markdown",
      "source": [
        "# **Frequency of each token**"
      ],
      "metadata": {
        "id": "5LNy2XWDVSkU"
      }
    },
    {
      "cell_type": "code",
      "source": [
        "def generate_tokens_freq(tokens):\n",
        "    dct={}\n",
        "    for i in tokens:\n",
        "        dct[i]=0\n",
        "    for i in tokens:\n",
        "        dct[i]+=1\n",
        "    return dct\n",
        "dct=generate_tokens_freq(tokens)\n",
        "print(\"Frequency of each tokens = \")\n",
        "for i in dct.items():\n",
        "    print(i[0],\":\" , i[1])"
      ],
      "metadata": {
        "colab": {
          "base_uri": "https://localhost:8080/"
        },
        "id": "60haR3_XVN8x",
        "outputId": "baeb8cf9-e31b-4508-c3c7-0267aae470c9"
      },
      "execution_count": null,
      "outputs": [
        {
          "output_type": "stream",
          "name": "stdout",
          "text": [
            "Frequency of each tokens = \n",
            "a : 4\n",
            "class : 2\n",
            "is : 2\n",
            "blueprint : 2\n",
            "for : 2\n",
            "the : 2\n",
            "object : 2\n"
          ]
        }
      ]
    },
    {
      "cell_type": "markdown",
      "source": [
        "# **Bi-grams**"
      ],
      "metadata": {
        "id": "iQCR4sh_Vbx4"
      }
    },
    {
      "cell_type": "code",
      "source": [
        "def generate_ngrams(tokens):\n",
        "    l=[]\n",
        "    i=0\n",
        "    while(i<len(tokens)):\n",
        "        l.append(tokens[i:i+2])\n",
        "        i=i+1\n",
        "    l=l[:-1]\n",
        "    return l\n",
        "bigram = generate_ngrams(tokens)\n",
        "print(\"bi-grams generated = \")\n",
        "for i in bigram:\n",
        "    print(i)"
      ],
      "metadata": {
        "colab": {
          "base_uri": "https://localhost:8080/"
        },
        "id": "acawJLrtVaQG",
        "outputId": "00367f96-4ea2-4653-ccfa-639376823389"
      },
      "execution_count": null,
      "outputs": [
        {
          "output_type": "stream",
          "name": "stdout",
          "text": [
            "bi-grams generated = \n",
            "['a', 'class']\n",
            "['class', 'is']\n",
            "['is', 'a']\n",
            "['a', 'blueprint']\n",
            "['blueprint', 'for']\n",
            "['for', 'the']\n",
            "['the', 'object']\n",
            "['object', 'a']\n",
            "['a', 'class']\n",
            "['class', 'is']\n",
            "['is', 'a']\n",
            "['a', 'blueprint']\n",
            "['blueprint', 'for']\n",
            "['for', 'the']\n",
            "['the', 'object']\n"
          ]
        }
      ]
    },
    {
      "cell_type": "markdown",
      "source": [
        "# **Bi-grams Frequency**"
      ],
      "metadata": {
        "id": "5KQrFj5bVrUy"
      }
    },
    {
      "cell_type": "code",
      "source": [
        "def generate_bigram_freq(bigram):\n",
        "    dct1={}\n",
        "    for i in bigram:\n",
        "        st=\" \".join(i)\n",
        "        dct1[st]=0\n",
        "    for i in bigram:\n",
        "        st=\" \".join(i)\n",
        "        dct1[st]+=1\n",
        "    return dct1\n",
        "dct1=generate_bigram_freq(bigram)\n",
        "print(\"Frequency of bi-grams = \")\n",
        "for i in dct1.items():\n",
        "    print(i[0], \":\", i[1])"
      ],
      "metadata": {
        "colab": {
          "base_uri": "https://localhost:8080/"
        },
        "id": "LYX_Rk7MVpyU",
        "outputId": "2276d142-dd3a-4506-a95f-51d16d8d9cc4"
      },
      "execution_count": null,
      "outputs": [
        {
          "output_type": "stream",
          "name": "stdout",
          "text": [
            "Frequency of bi-grams = \n",
            "a class : 2\n",
            "class is : 2\n",
            "is a : 2\n",
            "a blueprint : 2\n",
            "blueprint for : 2\n",
            "for the : 2\n",
            "the object : 2\n",
            "object a : 1\n"
          ]
        }
      ]
    },
    {
      "cell_type": "code",
      "source": [
        "#compute frequency distribution for all the bigrams in the text\n",
        "bgs=extract_ngrams(data, 2)\n",
        "fdist = nltk.FreqDist(bgs)\n",
        "print(fdist)\n",
        "for k,v in fdist.items():\n",
        "  print(k,v)\n"
      ],
      "metadata": {
        "colab": {
          "base_uri": "https://localhost:8080/"
        },
        "id": "3wN8Mke_PgXL",
        "outputId": "d6e30ce2-afd7-4194-b547-685a6cf7f4e3"
      },
      "execution_count": null,
      "outputs": [
        {
          "output_type": "stream",
          "name": "stdout",
          "text": [
            "<FreqDist with 9 samples and 16 outcomes>\n",
            "A class 2\n",
            "class is 2\n",
            "is a 2\n",
            "a blueprint 2\n",
            "blueprint for 2\n",
            "for the 2\n",
            "the object 2\n",
            "object . 1\n",
            ". A 1\n"
          ]
        }
      ]
    },
    {
      "cell_type": "markdown",
      "source": [
        "# **Probability Table**"
      ],
      "metadata": {
        "id": "v19bFrlrWEwi"
      }
    },
    {
      "cell_type": "code",
      "source": [
        "def find1(s,dct1):\n",
        "    try:\n",
        "        return dct1[s]\n",
        "    except:\n",
        "        return 0\n",
        "def print_probability_table(distinct_tokens,dct,dct1):\n",
        "    n=len(distinct_tokens)\n",
        "    l=[[]*n for i in range(n)]\n",
        "    for i in range(n):\n",
        "        denominator = dct[distinct_tokens[i]]\n",
        "        for j in range(n):\n",
        "            numerator = find1(distinct_tokens[i]+\" \"+distinct_tokens[j],dct1)\n",
        "            l[i].append(float(\"{:.3f}\".format(numerator/denominator)))\n",
        "    return l\n",
        "\n",
        "\n",
        "probability_table=print_probability_table(distinct_tokens,dct,dct1)\n",
        "n=len(distinct_tokens)\n",
        "\n",
        "for i in range(n):\n",
        "    \n",
        "    for j in range(n):\n",
        "        print(probability_table[i][j],end=\"\\t\")\n",
        "    print(\"\\n\")"
      ],
      "metadata": {
        "colab": {
          "base_uri": "https://localhost:8080/"
        },
        "id": "0POyFiZVV9hp",
        "outputId": "17fbb117-391f-461d-bb12-30b20a5ccb36"
      },
      "execution_count": null,
      "outputs": [
        {
          "output_type": "stream",
          "name": "stdout",
          "text": [
            "0.0\t0.0\t0.0\t0.0\t0.0\t1.0\t0.0\t\n",
            "\n",
            "0.0\t0.0\t0.5\t0.0\t0.0\t0.0\t0.5\t\n",
            "\n",
            "1.0\t0.0\t0.0\t0.0\t0.0\t0.0\t0.0\t\n",
            "\n",
            "0.0\t0.5\t0.0\t0.0\t0.0\t0.0\t0.0\t\n",
            "\n",
            "0.0\t1.0\t0.0\t0.0\t0.0\t0.0\t0.0\t\n",
            "\n",
            "0.0\t0.0\t0.0\t1.0\t0.0\t0.0\t0.0\t\n",
            "\n",
            "0.0\t0.0\t0.0\t0.0\t1.0\t0.0\t0.0\t\n",
            "\n"
          ]
        }
      ]
    },
    {
      "cell_type": "markdown",
      "source": [
        "# **Most Probable Word**"
      ],
      "metadata": {
        "id": "Juohx3C0XObF"
      }
    },
    {
      "cell_type": "code",
      "source": [
        "print('The most probable word for the following tokens are:')\n",
        "for i in range(len(distinct_tokens)):\n",
        "  index=probability_table[i].index(max(probability_table[i]))\n",
        "\n",
        "  print(distinct_tokens[i]+':'+distinct_tokens[index])"
      ],
      "metadata": {
        "colab": {
          "base_uri": "https://localhost:8080/"
        },
        "id": "DF9whktRWSv3",
        "outputId": "1a354641-cff9-402a-ab8e-c1cbc2fe57c5"
      },
      "execution_count": null,
      "outputs": [
        {
          "output_type": "stream",
          "name": "stdout",
          "text": [
            "The most probable word for the following tokens are:\n",
            "for:the\n",
            "a:blueprint\n",
            "blueprint:for\n",
            "object:a\n",
            "is:a\n",
            "the:object\n",
            "class:is\n"
          ]
        }
      ]
    },
    {
      "cell_type": "code",
      "source": [],
      "metadata": {
        "id": "nANqfibkkJAI"
      },
      "execution_count": null,
      "outputs": []
    }
  ]
}