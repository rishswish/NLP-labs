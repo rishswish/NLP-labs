{
  "nbformat": 4,
  "nbformat_minor": 0,
  "metadata": {
    "colab": {
      "provenance": []
    },
    "kernelspec": {
      "name": "python3",
      "display_name": "Python 3"
    },
    "language_info": {
      "name": "python"
    }
  },
  "cells": [
    {
      "cell_type": "markdown",
      "source": [
        "* NAME: RISHABH PATIL\n",
        "* SAP: 60009200056\n",
        "* BATCH: K2"
      ],
      "metadata": {
        "id": "Oqoxh61o9Bzg"
      }
    },
    {
      "cell_type": "code",
      "source": [
        "import nltk\n",
        "import numpy as np\n",
        "import pandas as pd\n",
        "import random\n",
        "from sklearn.model_selection import train_test_split\n",
        "import pprint, time"
      ],
      "metadata": {
        "id": "7RVrC9Cwv_wB"
      },
      "execution_count": null,
      "outputs": []
    },
    {
      "cell_type": "code",
      "execution_count": null,
      "metadata": {
        "colab": {
          "base_uri": "https://localhost:8080/"
        },
        "id": "wRwOGl1Zo1Jx",
        "outputId": "29f02439-45f3-4419-ca03-43888b8e54d4"
      },
      "outputs": [
        {
          "output_type": "stream",
          "name": "stderr",
          "text": [
            "[nltk_data] Downloading package treebank to /root/nltk_data...\n",
            "[nltk_data]   Unzipping corpora/treebank.zip.\n",
            "[nltk_data] Downloading package universal_tagset to /root/nltk_data...\n",
            "[nltk_data]   Unzipping taggers/universal_tagset.zip.\n"
          ]
        },
        {
          "output_type": "stream",
          "name": "stdout",
          "text": [
            "[[('Pierre', 'NOUN'), ('Vinken', 'NOUN'), (',', '.'), ('61', 'NUM'), ('years', 'NOUN'), ('old', 'ADJ'), (',', '.'), ('will', 'VERB'), ('join', 'VERB'), ('the', 'DET'), ('board', 'NOUN'), ('as', 'ADP'), ('a', 'DET'), ('nonexecutive', 'ADJ'), ('director', 'NOUN'), ('Nov.', 'NOUN'), ('29', 'NUM'), ('.', '.')], [('Mr.', 'NOUN'), ('Vinken', 'NOUN'), ('is', 'VERB'), ('chairman', 'NOUN'), ('of', 'ADP'), ('Elsevier', 'NOUN'), ('N.V.', 'NOUN'), (',', '.'), ('the', 'DET'), ('Dutch', 'NOUN'), ('publishing', 'VERB'), ('group', 'NOUN'), ('.', '.')]]\n"
          ]
        }
      ],
      "source": [
        "nltk.download('treebank')\n",
        "nltk.download('universal_tagset')\n",
        "nltk_data = list(nltk.corpus.treebank.tagged_sents(tagset='universal'))\n",
        "print(nltk_data[:2])"
      ]
    },
    {
      "cell_type": "code",
      "source": [
        "for sent in nltk_data[:2]:\n",
        "  for tuple in sent:\n",
        "    print(tuple)"
      ],
      "metadata": {
        "colab": {
          "base_uri": "https://localhost:8080/"
        },
        "id": "5kQKt_6KwKqA",
        "outputId": "7769ab8e-c41f-43f9-c5dc-739e644141f1"
      },
      "execution_count": null,
      "outputs": [
        {
          "output_type": "stream",
          "name": "stdout",
          "text": [
            "('Pierre', 'NOUN')\n",
            "('Vinken', 'NOUN')\n",
            "(',', '.')\n",
            "('61', 'NUM')\n",
            "('years', 'NOUN')\n",
            "('old', 'ADJ')\n",
            "(',', '.')\n",
            "('will', 'VERB')\n",
            "('join', 'VERB')\n",
            "('the', 'DET')\n",
            "('board', 'NOUN')\n",
            "('as', 'ADP')\n",
            "('a', 'DET')\n",
            "('nonexecutive', 'ADJ')\n",
            "('director', 'NOUN')\n",
            "('Nov.', 'NOUN')\n",
            "('29', 'NUM')\n",
            "('.', '.')\n",
            "('Mr.', 'NOUN')\n",
            "('Vinken', 'NOUN')\n",
            "('is', 'VERB')\n",
            "('chairman', 'NOUN')\n",
            "('of', 'ADP')\n",
            "('Elsevier', 'NOUN')\n",
            "('N.V.', 'NOUN')\n",
            "(',', '.')\n",
            "('the', 'DET')\n",
            "('Dutch', 'NOUN')\n",
            "('publishing', 'VERB')\n",
            "('group', 'NOUN')\n",
            "('.', '.')\n"
          ]
        }
      ]
    },
    {
      "cell_type": "code",
      "source": [
        "train_set,test_set =train_test_split(nltk_data,train_size=0.80,test_size=0.20,random_state = 101)"
      ],
      "metadata": {
        "id": "tDl0sQ6vwdKN"
      },
      "execution_count": null,
      "outputs": []
    },
    {
      "cell_type": "code",
      "source": [
        "train_tagged_words = [ tup for sent in train_set for tup in sent ]\n",
        "test_tagged_words = [ tup for sent in test_set for tup in sent ]\n",
        "print(len(train_tagged_words))\n",
        "print(len(test_tagged_words))"
      ],
      "metadata": {
        "colab": {
          "base_uri": "https://localhost:8080/"
        },
        "id": "DWT_BZCvwk9l",
        "outputId": "2626a269-4448-4968-b8ce-c099bd7ff9f1"
      },
      "execution_count": null,
      "outputs": [
        {
          "output_type": "stream",
          "name": "stdout",
          "text": [
            "80310\n",
            "20366\n"
          ]
        }
      ]
    },
    {
      "cell_type": "code",
      "source": [
        "train_tagged_words[:5]"
      ],
      "metadata": {
        "colab": {
          "base_uri": "https://localhost:8080/"
        },
        "id": "W2KL2APcwszJ",
        "outputId": "4a730b82-b981-4bec-d090-b08faaac10bf"
      },
      "execution_count": null,
      "outputs": [
        {
          "output_type": "execute_result",
          "data": {
            "text/plain": [
              "[('Drink', 'NOUN'),\n",
              " ('Carrier', 'NOUN'),\n",
              " ('Competes', 'VERB'),\n",
              " ('With', 'ADP'),\n",
              " ('Cartons', 'NOUN')]"
            ]
          },
          "metadata": {},
          "execution_count": 6
        }
      ]
    },
    {
      "cell_type": "code",
      "source": [
        "tags = {tag for word,tag in train_tagged_words}\n",
        "vocab = {word for word,tag in train_tagged_words}\n",
        "print(len(tags))\n",
        "print(tags)"
      ],
      "metadata": {
        "colab": {
          "base_uri": "https://localhost:8080/"
        },
        "id": "S9NUceo8wwFX",
        "outputId": "5b9ae3d0-a44b-4ac7-8167-dd1dcedaa5bd"
      },
      "execution_count": null,
      "outputs": [
        {
          "output_type": "stream",
          "name": "stdout",
          "text": [
            "12\n",
            "{'NUM', 'ADV', 'X', '.', 'NOUN', 'PRON', 'DET', 'CONJ', 'ADP', 'ADJ', 'PRT', 'VERB'}\n"
          ]
        }
      ]
    },
    {
      "cell_type": "markdown",
      "source": [
        "**Emission Probability**"
      ],
      "metadata": {
        "id": "h2-f6VRuxd9V"
      }
    },
    {
      "cell_type": "code",
      "source": [
        "def word_given_tag(word, tag, train_bag = train_tagged_words):\n",
        "    tag_list = [pair for pair in train_bag if pair[1]==tag]\n",
        "    count_tag = len(tag_list)\n",
        "    w_given_tag_list = [pair[0] for pair in tag_list if pair[0]==word]\n",
        "    count_w_given_tag = len(w_given_tag_list)\n",
        "    \n",
        "    return (count_w_given_tag, count_tag)"
      ],
      "metadata": {
        "id": "PBRszThFxSAd"
      },
      "execution_count": null,
      "outputs": []
    },
    {
      "cell_type": "markdown",
      "source": [
        "**Transition Probability**"
      ],
      "metadata": {
        "id": "PR7M_2Ooxhlh"
      }
    },
    {
      "cell_type": "code",
      "source": [
        "def t2_given_t1(t2, t1, train_bag = train_tagged_words):\n",
        "    tags = [pair[1] for pair in train_bag]\n",
        "    count_t1 = len([t for t in tags if t==t1])\n",
        "    count_t2_t1 = 0\n",
        "    for index in range(len(tags)-1):\n",
        "        if tags[index]==t1 and tags[index+1] == t2:\n",
        "            count_t2_t1 += 1\n",
        "    return (count_t2_t1, count_t1)"
      ],
      "metadata": {
        "id": "QVsychJQxZkF"
      },
      "execution_count": null,
      "outputs": []
    },
    {
      "cell_type": "code",
      "source": [
        "tags_matrix = np.zeros((len(tags), len(tags)), dtype='float32')\n",
        "for i, t1 in enumerate(list(tags)):\n",
        "    for j, t2 in enumerate(list(tags)): \n",
        "        tags_matrix[i, j] = t2_given_t1(t2, t1)[0]/t2_given_t1(t2, t1)[1]\n",
        " \n",
        "print(tags_matrix)"
      ],
      "metadata": {
        "colab": {
          "base_uri": "https://localhost:8080/"
        },
        "id": "hJ_-I5k1xo6v",
        "outputId": "3663036b-00a1-4ad9-957c-f2aeb5af3dba"
      },
      "execution_count": null,
      "outputs": [
        {
          "output_type": "stream",
          "name": "stdout",
          "text": [
            "[[1.84219927e-01 3.57015361e-03 2.02427700e-01 1.19243130e-01\n",
            "  3.51660132e-01 1.42806140e-03 3.57015361e-03 1.42806144e-02\n",
            "  3.74866128e-02 3.53445187e-02 2.60621198e-02 2.07068902e-02]\n",
            " [2.98681147e-02 8.14584941e-02 2.28859577e-02 1.39255241e-01\n",
            "  3.21955010e-02 1.20248254e-02 7.13731572e-02 6.98215654e-03\n",
            "  1.19472459e-01 1.30721495e-01 1.47401085e-02 3.39022487e-01]\n",
            " [3.07514891e-03 2.57543717e-02 7.57255405e-02 1.60868734e-01\n",
            "  6.16951771e-02 5.41995019e-02 5.68902567e-02 1.03786280e-02\n",
            "  1.42225638e-01 1.76821072e-02 1.85085520e-01 2.06419379e-01]\n",
            " [7.82104954e-02 5.25694676e-02 2.56410260e-02 9.23720598e-02\n",
            "  2.18538776e-01 6.87694475e-02 1.72191828e-01 6.00793920e-02\n",
            "  9.29084867e-02 4.61323895e-02 2.78940029e-03 8.96899477e-02]\n",
            " [9.14395228e-03 1.68945398e-02 2.88252197e-02 2.40094051e-01\n",
            "  2.62344331e-01 4.65906132e-03 1.31063312e-02 4.24540639e-02\n",
            "  1.76826611e-01 1.25838192e-02 4.39345129e-02 1.49133503e-01]\n",
            " [6.83371304e-03 3.69020514e-02 8.83826911e-02 4.19134386e-02\n",
            "  2.12756261e-01 6.83371304e-03 9.56719834e-03 5.01138950e-03\n",
            "  2.23234631e-02 7.06150308e-02 1.41230067e-02 4.84738052e-01]\n",
            " [2.28546783e-02 1.20741697e-02 4.51343954e-02 1.73925534e-02\n",
            "  6.35906279e-01 3.30602261e-03 6.03708485e-03 4.31220367e-04\n",
            "  9.91806854e-03 2.06410810e-01 2.87480245e-04 4.02472317e-02]\n",
            " [4.06147093e-02 5.70801310e-02 9.33040585e-03 3.51262353e-02\n",
            "  3.49066973e-01 6.03732169e-02 1.23490669e-01 5.48847427e-04\n",
            "  5.59824370e-02 1.13611415e-01 4.39077942e-03 1.50384188e-01]\n",
            " [6.32751212e-02 1.45532778e-02 3.45482156e-02 3.87243740e-02\n",
            "  3.23588967e-01 6.96026310e-02 3.20931405e-01 1.01240189e-03\n",
            "  1.69577319e-02 1.07061505e-01 1.26550242e-03 8.47886596e-03]\n",
            " [2.17475723e-02 5.24271838e-03 2.09708735e-02 6.60194159e-02\n",
            "  6.96893215e-01 1.94174761e-04 5.24271838e-03 1.68932043e-02\n",
            "  8.05825219e-02 6.33009672e-02 1.14563107e-02 1.14563107e-02]\n",
            " [5.67514673e-02 9.39334650e-03 1.21330721e-02 4.50097844e-02\n",
            "  2.50489235e-01 1.76125243e-02 1.01369865e-01 2.34833662e-03\n",
            "  1.95694715e-02 8.29745606e-02 1.17416831e-03 4.01174158e-01]\n",
            " [2.28360966e-02 8.38858187e-02 2.15930015e-01 3.48066315e-02\n",
            "  1.10589318e-01 3.55432779e-02 1.33609578e-01 5.43278083e-03\n",
            "  9.23572779e-02 6.63904250e-02 3.06629837e-02 1.67955801e-01]]\n"
          ]
        }
      ]
    },
    {
      "cell_type": "code",
      "source": [
        "tags_df = pd.DataFrame(tags_matrix, columns = list(tags), index=list(tags))\n",
        "display(tags_df)"
      ],
      "metadata": {
        "colab": {
          "base_uri": "https://localhost:8080/",
          "height": 425
        },
        "id": "H8sCwRLcxxBo",
        "outputId": "78c47411-3a0c-4dad-e12d-19146e92540b"
      },
      "execution_count": null,
      "outputs": [
        {
          "output_type": "display_data",
          "data": {
            "text/plain": [
              "           NUM       ADV         X         .      NOUN      PRON       DET  \\\n",
              "NUM   0.184220  0.003570  0.202428  0.119243  0.351660  0.001428  0.003570   \n",
              "ADV   0.029868  0.081458  0.022886  0.139255  0.032196  0.012025  0.071373   \n",
              "X     0.003075  0.025754  0.075726  0.160869  0.061695  0.054200  0.056890   \n",
              ".     0.078210  0.052569  0.025641  0.092372  0.218539  0.068769  0.172192   \n",
              "NOUN  0.009144  0.016895  0.028825  0.240094  0.262344  0.004659  0.013106   \n",
              "PRON  0.006834  0.036902  0.088383  0.041913  0.212756  0.006834  0.009567   \n",
              "DET   0.022855  0.012074  0.045134  0.017393  0.635906  0.003306  0.006037   \n",
              "CONJ  0.040615  0.057080  0.009330  0.035126  0.349067  0.060373  0.123491   \n",
              "ADP   0.063275  0.014553  0.034548  0.038724  0.323589  0.069603  0.320931   \n",
              "ADJ   0.021748  0.005243  0.020971  0.066019  0.696893  0.000194  0.005243   \n",
              "PRT   0.056751  0.009393  0.012133  0.045010  0.250489  0.017613  0.101370   \n",
              "VERB  0.022836  0.083886  0.215930  0.034807  0.110589  0.035543  0.133610   \n",
              "\n",
              "          CONJ       ADP       ADJ       PRT      VERB  \n",
              "NUM   0.014281  0.037487  0.035345  0.026062  0.020707  \n",
              "ADV   0.006982  0.119472  0.130721  0.014740  0.339022  \n",
              "X     0.010379  0.142226  0.017682  0.185086  0.206419  \n",
              ".     0.060079  0.092908  0.046132  0.002789  0.089690  \n",
              "NOUN  0.042454  0.176827  0.012584  0.043935  0.149134  \n",
              "PRON  0.005011  0.022323  0.070615  0.014123  0.484738  \n",
              "DET   0.000431  0.009918  0.206411  0.000287  0.040247  \n",
              "CONJ  0.000549  0.055982  0.113611  0.004391  0.150384  \n",
              "ADP   0.001012  0.016958  0.107062  0.001266  0.008479  \n",
              "ADJ   0.016893  0.080583  0.063301  0.011456  0.011456  \n",
              "PRT   0.002348  0.019569  0.082975  0.001174  0.401174  \n",
              "VERB  0.005433  0.092357  0.066390  0.030663  0.167956  "
            ],
            "text/html": [
              "\n",
              "  <div id=\"df-6d74acfd-09be-441d-a918-29f9c8201ba5\">\n",
              "    <div class=\"colab-df-container\">\n",
              "      <div>\n",
              "<style scoped>\n",
              "    .dataframe tbody tr th:only-of-type {\n",
              "        vertical-align: middle;\n",
              "    }\n",
              "\n",
              "    .dataframe tbody tr th {\n",
              "        vertical-align: top;\n",
              "    }\n",
              "\n",
              "    .dataframe thead th {\n",
              "        text-align: right;\n",
              "    }\n",
              "</style>\n",
              "<table border=\"1\" class=\"dataframe\">\n",
              "  <thead>\n",
              "    <tr style=\"text-align: right;\">\n",
              "      <th></th>\n",
              "      <th>NUM</th>\n",
              "      <th>ADV</th>\n",
              "      <th>X</th>\n",
              "      <th>.</th>\n",
              "      <th>NOUN</th>\n",
              "      <th>PRON</th>\n",
              "      <th>DET</th>\n",
              "      <th>CONJ</th>\n",
              "      <th>ADP</th>\n",
              "      <th>ADJ</th>\n",
              "      <th>PRT</th>\n",
              "      <th>VERB</th>\n",
              "    </tr>\n",
              "  </thead>\n",
              "  <tbody>\n",
              "    <tr>\n",
              "      <th>NUM</th>\n",
              "      <td>0.184220</td>\n",
              "      <td>0.003570</td>\n",
              "      <td>0.202428</td>\n",
              "      <td>0.119243</td>\n",
              "      <td>0.351660</td>\n",
              "      <td>0.001428</td>\n",
              "      <td>0.003570</td>\n",
              "      <td>0.014281</td>\n",
              "      <td>0.037487</td>\n",
              "      <td>0.035345</td>\n",
              "      <td>0.026062</td>\n",
              "      <td>0.020707</td>\n",
              "    </tr>\n",
              "    <tr>\n",
              "      <th>ADV</th>\n",
              "      <td>0.029868</td>\n",
              "      <td>0.081458</td>\n",
              "      <td>0.022886</td>\n",
              "      <td>0.139255</td>\n",
              "      <td>0.032196</td>\n",
              "      <td>0.012025</td>\n",
              "      <td>0.071373</td>\n",
              "      <td>0.006982</td>\n",
              "      <td>0.119472</td>\n",
              "      <td>0.130721</td>\n",
              "      <td>0.014740</td>\n",
              "      <td>0.339022</td>\n",
              "    </tr>\n",
              "    <tr>\n",
              "      <th>X</th>\n",
              "      <td>0.003075</td>\n",
              "      <td>0.025754</td>\n",
              "      <td>0.075726</td>\n",
              "      <td>0.160869</td>\n",
              "      <td>0.061695</td>\n",
              "      <td>0.054200</td>\n",
              "      <td>0.056890</td>\n",
              "      <td>0.010379</td>\n",
              "      <td>0.142226</td>\n",
              "      <td>0.017682</td>\n",
              "      <td>0.185086</td>\n",
              "      <td>0.206419</td>\n",
              "    </tr>\n",
              "    <tr>\n",
              "      <th>.</th>\n",
              "      <td>0.078210</td>\n",
              "      <td>0.052569</td>\n",
              "      <td>0.025641</td>\n",
              "      <td>0.092372</td>\n",
              "      <td>0.218539</td>\n",
              "      <td>0.068769</td>\n",
              "      <td>0.172192</td>\n",
              "      <td>0.060079</td>\n",
              "      <td>0.092908</td>\n",
              "      <td>0.046132</td>\n",
              "      <td>0.002789</td>\n",
              "      <td>0.089690</td>\n",
              "    </tr>\n",
              "    <tr>\n",
              "      <th>NOUN</th>\n",
              "      <td>0.009144</td>\n",
              "      <td>0.016895</td>\n",
              "      <td>0.028825</td>\n",
              "      <td>0.240094</td>\n",
              "      <td>0.262344</td>\n",
              "      <td>0.004659</td>\n",
              "      <td>0.013106</td>\n",
              "      <td>0.042454</td>\n",
              "      <td>0.176827</td>\n",
              "      <td>0.012584</td>\n",
              "      <td>0.043935</td>\n",
              "      <td>0.149134</td>\n",
              "    </tr>\n",
              "    <tr>\n",
              "      <th>PRON</th>\n",
              "      <td>0.006834</td>\n",
              "      <td>0.036902</td>\n",
              "      <td>0.088383</td>\n",
              "      <td>0.041913</td>\n",
              "      <td>0.212756</td>\n",
              "      <td>0.006834</td>\n",
              "      <td>0.009567</td>\n",
              "      <td>0.005011</td>\n",
              "      <td>0.022323</td>\n",
              "      <td>0.070615</td>\n",
              "      <td>0.014123</td>\n",
              "      <td>0.484738</td>\n",
              "    </tr>\n",
              "    <tr>\n",
              "      <th>DET</th>\n",
              "      <td>0.022855</td>\n",
              "      <td>0.012074</td>\n",
              "      <td>0.045134</td>\n",
              "      <td>0.017393</td>\n",
              "      <td>0.635906</td>\n",
              "      <td>0.003306</td>\n",
              "      <td>0.006037</td>\n",
              "      <td>0.000431</td>\n",
              "      <td>0.009918</td>\n",
              "      <td>0.206411</td>\n",
              "      <td>0.000287</td>\n",
              "      <td>0.040247</td>\n",
              "    </tr>\n",
              "    <tr>\n",
              "      <th>CONJ</th>\n",
              "      <td>0.040615</td>\n",
              "      <td>0.057080</td>\n",
              "      <td>0.009330</td>\n",
              "      <td>0.035126</td>\n",
              "      <td>0.349067</td>\n",
              "      <td>0.060373</td>\n",
              "      <td>0.123491</td>\n",
              "      <td>0.000549</td>\n",
              "      <td>0.055982</td>\n",
              "      <td>0.113611</td>\n",
              "      <td>0.004391</td>\n",
              "      <td>0.150384</td>\n",
              "    </tr>\n",
              "    <tr>\n",
              "      <th>ADP</th>\n",
              "      <td>0.063275</td>\n",
              "      <td>0.014553</td>\n",
              "      <td>0.034548</td>\n",
              "      <td>0.038724</td>\n",
              "      <td>0.323589</td>\n",
              "      <td>0.069603</td>\n",
              "      <td>0.320931</td>\n",
              "      <td>0.001012</td>\n",
              "      <td>0.016958</td>\n",
              "      <td>0.107062</td>\n",
              "      <td>0.001266</td>\n",
              "      <td>0.008479</td>\n",
              "    </tr>\n",
              "    <tr>\n",
              "      <th>ADJ</th>\n",
              "      <td>0.021748</td>\n",
              "      <td>0.005243</td>\n",
              "      <td>0.020971</td>\n",
              "      <td>0.066019</td>\n",
              "      <td>0.696893</td>\n",
              "      <td>0.000194</td>\n",
              "      <td>0.005243</td>\n",
              "      <td>0.016893</td>\n",
              "      <td>0.080583</td>\n",
              "      <td>0.063301</td>\n",
              "      <td>0.011456</td>\n",
              "      <td>0.011456</td>\n",
              "    </tr>\n",
              "    <tr>\n",
              "      <th>PRT</th>\n",
              "      <td>0.056751</td>\n",
              "      <td>0.009393</td>\n",
              "      <td>0.012133</td>\n",
              "      <td>0.045010</td>\n",
              "      <td>0.250489</td>\n",
              "      <td>0.017613</td>\n",
              "      <td>0.101370</td>\n",
              "      <td>0.002348</td>\n",
              "      <td>0.019569</td>\n",
              "      <td>0.082975</td>\n",
              "      <td>0.001174</td>\n",
              "      <td>0.401174</td>\n",
              "    </tr>\n",
              "    <tr>\n",
              "      <th>VERB</th>\n",
              "      <td>0.022836</td>\n",
              "      <td>0.083886</td>\n",
              "      <td>0.215930</td>\n",
              "      <td>0.034807</td>\n",
              "      <td>0.110589</td>\n",
              "      <td>0.035543</td>\n",
              "      <td>0.133610</td>\n",
              "      <td>0.005433</td>\n",
              "      <td>0.092357</td>\n",
              "      <td>0.066390</td>\n",
              "      <td>0.030663</td>\n",
              "      <td>0.167956</td>\n",
              "    </tr>\n",
              "  </tbody>\n",
              "</table>\n",
              "</div>\n",
              "      <button class=\"colab-df-convert\" onclick=\"convertToInteractive('df-6d74acfd-09be-441d-a918-29f9c8201ba5')\"\n",
              "              title=\"Convert this dataframe to an interactive table.\"\n",
              "              style=\"display:none;\">\n",
              "        \n",
              "  <svg xmlns=\"http://www.w3.org/2000/svg\" height=\"24px\"viewBox=\"0 0 24 24\"\n",
              "       width=\"24px\">\n",
              "    <path d=\"M0 0h24v24H0V0z\" fill=\"none\"/>\n",
              "    <path d=\"M18.56 5.44l.94 2.06.94-2.06 2.06-.94-2.06-.94-.94-2.06-.94 2.06-2.06.94zm-11 1L8.5 8.5l.94-2.06 2.06-.94-2.06-.94L8.5 2.5l-.94 2.06-2.06.94zm10 10l.94 2.06.94-2.06 2.06-.94-2.06-.94-.94-2.06-.94 2.06-2.06.94z\"/><path d=\"M17.41 7.96l-1.37-1.37c-.4-.4-.92-.59-1.43-.59-.52 0-1.04.2-1.43.59L10.3 9.45l-7.72 7.72c-.78.78-.78 2.05 0 2.83L4 21.41c.39.39.9.59 1.41.59.51 0 1.02-.2 1.41-.59l7.78-7.78 2.81-2.81c.8-.78.8-2.07 0-2.86zM5.41 20L4 18.59l7.72-7.72 1.47 1.35L5.41 20z\"/>\n",
              "  </svg>\n",
              "      </button>\n",
              "      \n",
              "  <style>\n",
              "    .colab-df-container {\n",
              "      display:flex;\n",
              "      flex-wrap:wrap;\n",
              "      gap: 12px;\n",
              "    }\n",
              "\n",
              "    .colab-df-convert {\n",
              "      background-color: #E8F0FE;\n",
              "      border: none;\n",
              "      border-radius: 50%;\n",
              "      cursor: pointer;\n",
              "      display: none;\n",
              "      fill: #1967D2;\n",
              "      height: 32px;\n",
              "      padding: 0 0 0 0;\n",
              "      width: 32px;\n",
              "    }\n",
              "\n",
              "    .colab-df-convert:hover {\n",
              "      background-color: #E2EBFA;\n",
              "      box-shadow: 0px 1px 2px rgba(60, 64, 67, 0.3), 0px 1px 3px 1px rgba(60, 64, 67, 0.15);\n",
              "      fill: #174EA6;\n",
              "    }\n",
              "\n",
              "    [theme=dark] .colab-df-convert {\n",
              "      background-color: #3B4455;\n",
              "      fill: #D2E3FC;\n",
              "    }\n",
              "\n",
              "    [theme=dark] .colab-df-convert:hover {\n",
              "      background-color: #434B5C;\n",
              "      box-shadow: 0px 1px 3px 1px rgba(0, 0, 0, 0.15);\n",
              "      filter: drop-shadow(0px 1px 2px rgba(0, 0, 0, 0.3));\n",
              "      fill: #FFFFFF;\n",
              "    }\n",
              "  </style>\n",
              "\n",
              "      <script>\n",
              "        const buttonEl =\n",
              "          document.querySelector('#df-6d74acfd-09be-441d-a918-29f9c8201ba5 button.colab-df-convert');\n",
              "        buttonEl.style.display =\n",
              "          google.colab.kernel.accessAllowed ? 'block' : 'none';\n",
              "\n",
              "        async function convertToInteractive(key) {\n",
              "          const element = document.querySelector('#df-6d74acfd-09be-441d-a918-29f9c8201ba5');\n",
              "          const dataTable =\n",
              "            await google.colab.kernel.invokeFunction('convertToInteractive',\n",
              "                                                     [key], {});\n",
              "          if (!dataTable) return;\n",
              "\n",
              "          const docLinkHtml = 'Like what you see? Visit the ' +\n",
              "            '<a target=\"_blank\" href=https://colab.research.google.com/notebooks/data_table.ipynb>data table notebook</a>'\n",
              "            + ' to learn more about interactive tables.';\n",
              "          element.innerHTML = '';\n",
              "          dataTable['output_type'] = 'display_data';\n",
              "          await google.colab.output.renderOutput(dataTable, element);\n",
              "          const docLink = document.createElement('div');\n",
              "          docLink.innerHTML = docLinkHtml;\n",
              "          element.appendChild(docLink);\n",
              "        }\n",
              "      </script>\n",
              "    </div>\n",
              "  </div>\n",
              "  "
            ]
          },
          "metadata": {}
        }
      ]
    },
    {
      "cell_type": "code",
      "source": [
        "def Viterbi(words, train_bag = train_tagged_words):\n",
        "    state = []\n",
        "    T = list(set([pair[1] for pair in train_bag]))\n",
        "     \n",
        "    for key, word in enumerate(words):\n",
        "        p = [] \n",
        "        for tag in T:\n",
        "            if key == 0:\n",
        "                transition_p = tags_df.loc['.', tag]\n",
        "            else:\n",
        "                transition_p = tags_df.loc[state[-1], tag]\n",
        "\n",
        "            emission_p = word_given_tag(words[key], tag)[0]/word_given_tag(words[key], tag)[1]\n",
        "            state_probability = emission_p * transition_p    \n",
        "            p.append(state_probability)\n",
        "             \n",
        "        pmax = max(p)\n",
        "        state_max = T[p.index(pmax)] \n",
        "        state.append(state_max)\n",
        "    return list(zip(words, state))"
      ],
      "metadata": {
        "id": "yd4IitCyx9sP"
      },
      "execution_count": null,
      "outputs": []
    },
    {
      "cell_type": "code",
      "source": [
        "random.seed(1234) \n",
        "rndom = [random.randint(1,len(test_set)) for x in range(10)]\n",
        "\n",
        "test_run = [test_set[i] for i in rndom]\n",
        "test_run_base = [tup for sent in test_run for tup in sent]\n",
        "test_tagged_words = [tup[0] for sent in test_run for tup in sent]"
      ],
      "metadata": {
        "id": "TuGghrT6yIvL"
      },
      "execution_count": null,
      "outputs": []
    },
    {
      "cell_type": "code",
      "source": [
        "start = time.time()\n",
        "tagged_seq = Viterbi(test_tagged_words)\n",
        "end = time.time()\n",
        "difference = end-start\n",
        " \n",
        "print(\"Time taken in seconds: \", difference)\n",
        "check = [i for i, j in zip(tagged_seq, test_run_base) if i == j] \n",
        " \n",
        "accuracy = len(check)/len(tagged_seq)\n",
        "print('Viterbi Algorithm Accuracy: ',accuracy*100)"
      ],
      "metadata": {
        "colab": {
          "base_uri": "https://localhost:8080/"
        },
        "id": "4DB263Vbzddb",
        "outputId": "d12a7f51-6342-4dbd-ea23-f87527f36f58"
      },
      "execution_count": null,
      "outputs": [
        {
          "output_type": "stream",
          "name": "stdout",
          "text": [
            "Time taken in seconds:  49.21722149848938\n",
            "Viterbi Algorithm Accuracy:  93.77990430622009\n"
          ]
        }
      ]
    },
    {
      "cell_type": "code",
      "source": [
        "test_sent=\"Will can see Marry\"\n",
        "pred_tags_withoutRules= Viterbi(test_sent.split())\n",
        "print(pred_tags_withoutRules)"
      ],
      "metadata": {
        "colab": {
          "base_uri": "https://localhost:8080/"
        },
        "id": "phX2urZ9z3PA",
        "outputId": "cfeba2ca-5f9d-4f2a-ad3f-a10d8ff2c768"
      },
      "execution_count": null,
      "outputs": [
        {
          "output_type": "stream",
          "name": "stdout",
          "text": [
            "[('Will', 'NUM'), ('can', 'VERB'), ('see', 'VERB'), ('Marry', 'NUM')]\n"
          ]
        }
      ]
    },
    {
      "cell_type": "code",
      "source": [],
      "metadata": {
        "id": "ymrng_5P0zH3"
      },
      "execution_count": null,
      "outputs": []
    }
  ]
}